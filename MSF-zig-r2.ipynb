{
 "cells": [
  {
   "cell_type": "code",
   "execution_count": 4,
   "metadata": {},
   "outputs": [],
   "source": [
    "import r2pipe"
   ]
  },
  {
   "cell_type": "code",
   "execution_count": 7,
   "metadata": {},
   "outputs": [],
   "source": [
    "#shellcode = \"\"\n",
    "#r2 = r2pipe.open(\"malloc://1024\")\n",
    "#r2.cmd('wx '+shellcode)\n",
    "r2 = r2pipe.open(\"/Users/maijin/msf-r2-jupyter/e\")"
   ]
  },
  {
   "cell_type": "code",
   "execution_count": 8,
   "metadata": {},
   "outputs": [
    {
     "data": {
      "text/plain": [
       "'0x000000a4   # 5: push 0x6b8029\\n0x00000094   # 5: push 0x726774c\\n0x000000ea   # 5: push 0x5fc8d902\\n0x0000010b   # 5: push 0x5fc8d902\\n0x000000cd   # 5: push 0x6174a599\\n0x000000c1   # 5: push 0xe0df0fea'"
      ]
     },
     "execution_count": 8,
     "metadata": {},
     "output_type": "execute_result"
    }
   ],
   "source": [
    "r2.cmd(\"e asm.lines=false\")\n",
    "r2.cmd(\"e asm.bits = 32\")\n",
    "r2.cmd(\"e asm.slow = false\")\n",
    "r2.cmd(\". ./hash.r2\")"
   ]
  },
  {
   "cell_type": "markdown",
   "metadata": {},
   "source": [
    "# Stager Initial"
   ]
  },
  {
   "cell_type": "code",
   "execution_count": 9,
   "metadata": {},
   "outputs": [
    {
     "data": {
      "text/plain": [
       "''"
      ]
     },
     "execution_count": 9,
     "metadata": {},
     "output_type": "execute_result"
    }
   ],
   "source": [
    "r2.cmd(\"e zign.minsz = 0\")\n",
    "r2.cmd(\"zs msf\")\n",
    "r2.cmd(\"za stager_intro b fce88.000000\")\n",
    "r2.cmd(\"zs-\")\n",
    "r2.cmd(\"z/\")\n",
    "r2.cmd(\"s sign.bytes.stager_intro_0\")\n",
    "r2.cmd(\"CCu Clear the direction flag\")\n",
    "r2.cmd(\"so 1\")\n",
    "r2.cmd(\"CCu Call start, this pushes the address of 'api_call' onto the stack\")\n",
    "r2.cmd(\"af fcn.start @ \" + str(r2.cmdj(\"aoj\")[0][\"jump\"]))\n",
    "r2.cmd(\"so 1\")"
   ]
  },
  {
   "cell_type": "markdown",
   "metadata": {},
   "source": [
    "# Block_API"
   ]
  },
  {
   "cell_type": "code",
   "execution_count": 10,
   "metadata": {},
   "outputs": [
    {
     "data": {
      "text/plain": [
       "''"
      ]
     },
     "execution_count": 10,
     "metadata": {},
     "output_type": "execute_result"
    }
   ],
   "source": [
    "r2.cmd(\"zs msf\")\n",
    "r2.cmd(\"za block_api_api_call b 6089e531c.648b5.308b520c8b5214\")\n",
    "r2.cmd(\"za block_api_next_mod b 8b72280fb74a2631ff\")\n",
    "r2.cmd(\"za block_api_loop_modname b ac3c617c022c20\")\n",
    "r2.cmd(\"za block_api_not_lowercase b c1cf0d01c7e2f252578b52108b4a3c8b4c1178e34801d1518b592001d38b4918\")\n",
    "r2.cmd(\"za block_api_get_next_func b e33a498b348b01d631ff\")\n",
    "r2.cmd(\"za block_api_loop_funcname b acc1cf0d01c738e075f6037df83b7d2475e4588b582401d3668b0c4b8b581c01d38b048b01d0\")\n",
    "r2.cmd(\"za block_api_finish b 894424245b5b61595a51ffe0\")\n",
    "#r2.cmd(\"za get_next_mod b 5f\")\n",
    "r2.cmd(\"za block_api_get_next_mod1 b 5f5a8b12eb8d\")\n",
    "r2.cmd(\"zs-\")\n",
    "r2.cmd(\"z/\")"
   ]
  },
  {
   "cell_type": "markdown",
   "metadata": {},
   "source": [
    "# Block_reverse_http"
   ]
  },
  {
   "cell_type": "code",
   "execution_count": 11,
   "metadata": {},
   "outputs": [
    {
     "data": {
      "text/plain": [
       "''"
      ]
     },
     "execution_count": 11,
     "metadata": {},
     "output_type": "execute_result"
    }
   ],
   "source": [
    "r2.cmd(\"za load_wininet b 5d686e6574006877696e6954684c772607ffd5\")\n",
    "r2.cmd(\"za internetopen b 683a5679a7ffd5\")\n",
    "r2.cmd(\"za internetconnect b 6a035353680a1a0000e898000000\")\n",
    "r2.cmd(\"za got_server_host b 506857899fc6ffd5\")\n",
    "r2.cmd(\"za httpopenrequest b 680032e08453535357535668eb552e3bffd596\")\n",
    "r2.cmd(\"za set_security_options b 688033000089e06a04506a1f566875469e86ffd55353535356682d06187bffd585c07516\")\n",
    "r2.cmd(\"za httpsendrequest b 5353535356682d06187bffd585c07516\")\n",
    "r2.cmd(\"za try_it_again b 4f75cd\")\n",
    "r2.cmd(\"za failure b 68f0b5a256ffd5\")\n",
    "r2.cmd(\"za allocate_memory b 6a4068001000006800004000536858a453e5ffd5\")\n",
    "r2.cmd(\"za download_prep b 93535389e7\")\n",
    "r2.cmd(\"za download_more b 576800200000535668129689e2ffd585c074cd8b0701c385c075e558\")\n",
    "#r2.cmd(\"za execute_stage b c3\")\n",
    "r2.cmd(\"za got_server_uri b 5fe869ffffff\")\n",
    "r2.cmd(\"zs-\")\n",
    "r2.cmd(\"z/\")"
   ]
  },
  {
   "cell_type": "markdown",
   "metadata": {},
   "source": [
    "# Block_reverse_http"
   ]
  },
  {
   "cell_type": "code",
   "execution_count": 12,
   "metadata": {},
   "outputs": [
    {
     "data": {
      "text/plain": [
       "''"
      ]
     },
     "execution_count": 12,
     "metadata": {},
     "output_type": "execute_result"
    }
   ],
   "source": [
    "r2.cmd(\"zs msf\")\n",
    "r2.cmd(\"za block_api_api_call b 6089e531c.648b5.308b520c8b5214\")\n",
    "r2.cmd(\"zs-\")\n",
    "r2.cmd(\"z/\")"
   ]
  },
  {
   "cell_type": "markdown",
   "metadata": {},
   "source": [
    "# Block_reverse_tcp"
   ]
  },
  {
   "cell_type": "code",
   "execution_count": 13,
   "metadata": {},
   "outputs": [
    {
     "data": {
      "text/plain": [
       "''"
      ]
     },
     "execution_count": 13,
     "metadata": {},
     "output_type": "execute_result"
    }
   ],
   "source": [
    "r2.cmd(\"zs msf\")\n",
    "r2.cmd(\"za reverse_tcp_part1 b 5d6833320000687773325f54684c772607ffd5b89001000029c454506829806b00ffd5\")\n",
    "r2.cmd(\"za reverse_tcp_part2 b 505050504050405068ea0fdfe0ffd597\")\n",
    "r2.cmd(\"za set_address b 6a0a68........68........89e6\")\n",
    "r2.cmd(\"za try_connect b 6a1056576899a57461ffd585c0740c\")\n",
    "r2.cmd(\"za failure b 68f0b5a256ffd5\")\n",
    "r2.cmd(\"za handle_failure b ff4e0875ec\")\n",
    "r2.cmd(\"zs-\")\n",
    "r2.cmd(\"z/\")"
   ]
  },
  {
   "cell_type": "markdown",
   "metadata": {},
   "source": [
    "# Block_recv"
   ]
  },
  {
   "cell_type": "code",
   "execution_count": 14,
   "metadata": {},
   "outputs": [
    {
     "name": "stdout",
     "output_type": "stream",
     "text": [
      "zs msf\n",
      "za block_api_next_mod b 8b72280fb74a2631ff\n",
      "zs msf\n",
      "za allocate_memory b 6a4068001000006800004000536858a453e5ffd5\n",
      "zs msf\n",
      "za stager_intro b fce88.000000\n",
      "zs msf\n",
      "za block_api_finish b 894424245b5b61595a51ffe0\n",
      "zs msf\n",
      "za download_more b 576800200000535668129689e2ffd585c074cd8b0701c385c075e558\n",
      "zs msf\n",
      "za got_server_host b 506857899fc6ffd5\n",
      "zs msf\n",
      "za failure b 68f0b5a256ffd5\n",
      "zs msf\n",
      "za block_api_loop_funcname b acc1cf0d01c738e075f6037df83b7d2475e4588b582401d3668b0c4b8b581c01d38b048b01d0\n",
      "zs msf\n",
      "za got_server_uri b 5fe869ffffff\n",
      "zs msf\n",
      "za httpsendrequest b 5353535356682d06187bffd585c07516\n",
      "zs msf\n",
      "za set_security_options b 688033000089e06a04506a1f566875469e86ffd55353535356682d06187bffd585c07516\n",
      "zs msf\n",
      "za try_connect b 6a1056576899a57461ffd585c0740c\n",
      "zs msf\n",
      "za download_prep b 93535389e7\n",
      "zs msf\n",
      "za internetopen b 683a5679a7ffd5\n",
      "zs msf\n",
      "za try_it_again b 4f75cd\n",
      "zs msf\n",
      "za block_api_loop_modname b ac3c617c022c20\n",
      "zs msf\n",
      "za reverse_tcp_part2 b 505050504050405068ea0fdfe0ffd597\n",
      "zs msf\n",
      "za reverse_tcp_part1 b 5d6833320000687773325f54684c772607ffd5b89001000029c454506829806b00ffd5\n",
      "zs msf\n",
      "za load_wininet b 5d686e6574006877696e6954684c772607ffd5\n",
      "zs msf\n",
      "za block_api_api_call b 6089e531c.648b5.308b520c8b5214\n",
      "zs msf\n",
      "za block_api_get_next_func b e33a498b348b01d631ff\n",
      "zs msf\n",
      "za internetconnect b 6a035353680a1a0000e898000000\n",
      "zs msf\n",
      "za block_api_get_next_mod1 b 5f5a8b12eb8d\n",
      "zs msf\n",
      "za httpopenrequest b 680032e08453535357535668eb552e3bffd596\n",
      "zs msf\n",
      "za handle_failure b ff4e0875ec\n",
      "zs msf\n",
      "za read_more b 6a005653576802d9c85fffd501c329c675eec3\n",
      "zs msf\n",
      "za block_api_not_lowercase b c1cf0d01c7e2f252578b52108b4a3c8b4c1178e34801d1518b592001d38b4918\n",
      "zs msf\n",
      "za set_address b 6a0a68........68........89e6\n",
      "zs msf\n",
      "za recv b 6a006a0456576802d9c85fffd58b366a406800100000566a006858a453e5ffd59353\n"
     ]
    }
   ],
   "source": [
    "r2.cmd(\"zs msf\")\n",
    "r2.cmd(\"za recv b 6a006a0456576802d9c85fffd58b366a406800100000566a006858a453e5ffd59353\")\n",
    "r2.cmd(\"za read_more b 6a005653576802d9c85fffd501c329c675eec3\")\n",
    "r2.cmd(\"zs-\")\n",
    "r2.cmd(\"z/\")\n",
    "print(r2.cmd(\"z*\"))"
   ]
  },
  {
   "cell_type": "markdown",
   "metadata": {},
   "source": [
    "# Define Constants"
   ]
  },
  {
   "cell_type": "code",
   "execution_count": 15,
   "metadata": {},
   "outputs": [
    {
     "ename": "KeyError",
     "evalue": "'val'",
     "output_type": "error",
     "traceback": [
      "\u001b[0;31m---------------------------------------------------------------------------\u001b[0m",
      "\u001b[0;31mKeyError\u001b[0m                                  Traceback (most recent call last)",
      "\u001b[0;32m<ipython-input-15-484f736cee84>\u001b[0m in \u001b[0;36m<module>\u001b[0;34m()\u001b[0m\n\u001b[1;32m      2\u001b[0m \u001b[0mr2\u001b[0m\u001b[0;34m.\u001b[0m\u001b[0mcmd\u001b[0m\u001b[0;34m(\u001b[0m\u001b[0;34m\"s sign.bytes.internetconnect_0\"\u001b[0m\u001b[0;34m)\u001b[0m\u001b[0;34m\u001b[0m\u001b[0m\n\u001b[1;32m      3\u001b[0m \u001b[0mr2\u001b[0m\u001b[0;34m.\u001b[0m\u001b[0mcmd\u001b[0m\u001b[0;34m(\u001b[0m\u001b[0;34m\"so+3\"\u001b[0m\u001b[0;34m)\u001b[0m\u001b[0;34m\u001b[0m\u001b[0m\n\u001b[0;32m----> 4\u001b[0;31m \u001b[0mserver_port\u001b[0m \u001b[0;34m=\u001b[0m \u001b[0mstr\u001b[0m\u001b[0;34m(\u001b[0m\u001b[0mr2\u001b[0m\u001b[0;34m.\u001b[0m\u001b[0mcmdj\u001b[0m\u001b[0;34m(\u001b[0m\u001b[0;34m\"aoj\"\u001b[0m\u001b[0;34m)\u001b[0m\u001b[0;34m[\u001b[0m\u001b[0;36m0\u001b[0m\u001b[0;34m]\u001b[0m\u001b[0;34m[\u001b[0m\u001b[0;34m\"val\"\u001b[0m\u001b[0;34m]\u001b[0m\u001b[0;34m)\u001b[0m\u001b[0;34m\u001b[0m\u001b[0m\n\u001b[0m\u001b[1;32m      5\u001b[0m \u001b[0mr2\u001b[0m\u001b[0;34m.\u001b[0m\u001b[0mcmd\u001b[0m\u001b[0;34m(\u001b[0m\u001b[0;34m\"s sign.bytes.internetconnect_0+\"\u001b[0m\u001b[0;34m+\u001b[0m\u001b[0msize\u001b[0m\u001b[0;34m)\u001b[0m\u001b[0;34m\u001b[0m\u001b[0m\n\u001b[1;32m      6\u001b[0m \u001b[0mr2\u001b[0m\u001b[0;34m.\u001b[0m\u001b[0mcmd\u001b[0m\u001b[0;34m(\u001b[0m\u001b[0;34m\"Csa\"\u001b[0m\u001b[0;34m)\u001b[0m\u001b[0;34m\u001b[0m\u001b[0m\n",
      "\u001b[0;31mKeyError\u001b[0m: 'val'"
     ]
    }
   ],
   "source": [
    "size = r2.cmd(\"fl @ sign.bytes.internetconnect_0\") \n",
    "r2.cmd(\"s sign.bytes.internetconnect_0\")\n",
    "r2.cmd(\"so+3\")\n",
    "server_port = str(r2.cmdj(\"aoj\")[0][\"val\"])\n",
    "r2.cmd(\"s sign.bytes.internetconnect_0+\"+size)\n",
    "r2.cmd(\"Csa\")\n",
    "server_uri = r2.cmd(\"ps\")\n",
    "\n",
    "size = r2.cmd(\"fl @ sign.bytes.got_server_uri_0\")\n",
    "r2.cmd(\"s sign.bytes.got_server_uri_0+\" + str(size))\n",
    "r2.cmd(\"Csa\")\n",
    "server_host = (r2.cmd(\"ps\"))\n",
    "\n",
    "print(\"Server is \" + server_host+\":\"+server_port+server_uri)"
   ]
  },
  {
   "cell_type": "code",
   "execution_count": 25,
   "metadata": {},
   "outputs": [],
   "source": [
    "r2.quit()"
   ]
  }
 ],
 "metadata": {
  "kernelspec": {
   "display_name": "Python 3",
   "language": "python",
   "name": "python3"
  },
  "language_info": {
   "codemirror_mode": {
    "name": "ipython",
    "version": 3
   },
   "file_extension": ".py",
   "mimetype": "text/x-python",
   "name": "python",
   "nbconvert_exporter": "python",
   "pygments_lexer": "ipython3",
   "version": "3.6.4"
  }
 },
 "nbformat": 4,
 "nbformat_minor": 2
}
